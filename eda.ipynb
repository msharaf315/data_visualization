{
 "cells": [
  {
   "cell_type": "code",
   "execution_count": 4,
   "id": "b820d05d",
   "metadata": {},
   "outputs": [
    {
     "name": "stdout",
     "output_type": "stream",
     "text": [
      "Requirement already satisfied: pandas in ./.venv/lib/python3.11/site-packages (2.2.3)\n",
      "Requirement already satisfied: numpy>=1.23.2 in ./.venv/lib/python3.11/site-packages (from pandas) (2.2.5)\n",
      "Requirement already satisfied: python-dateutil>=2.8.2 in ./.venv/lib/python3.11/site-packages (from pandas) (2.9.0.post0)\n",
      "Requirement already satisfied: pytz>=2020.1 in ./.venv/lib/python3.11/site-packages (from pandas) (2025.2)\n",
      "Requirement already satisfied: tzdata>=2022.7 in ./.venv/lib/python3.11/site-packages (from pandas) (2025.2)\n",
      "Requirement already satisfied: six>=1.5 in ./.venv/lib/python3.11/site-packages (from python-dateutil>=2.8.2->pandas) (1.17.0)\n",
      "Requirement already satisfied: numpy in ./.venv/lib/python3.11/site-packages (2.2.5)\n"
     ]
    }
   ],
   "source": [
    "!pip install pandas\n",
    "!pip install numpy"
   ]
  },
  {
   "cell_type": "code",
   "execution_count": 6,
   "id": "3eeb4df3",
   "metadata": {},
   "outputs": [],
   "source": [
    "import pandas as pd \n",
    "import numpy as np "
   ]
  },
  {
   "cell_type": "code",
   "execution_count": 45,
   "id": "564950ac",
   "metadata": {},
   "outputs": [
    {
     "name": "stderr",
     "output_type": "stream",
     "text": [
      "/var/folders/w9/1pmwjr7x04l24kfztqvfbtb40000gn/T/ipykernel_77126/1630914928.py:9: DtypeWarning: Columns (4) have mixed types. Specify dtype option on import or set low_memory=False.\n",
      "  df = pd.read_csv(\"data/morticd10_part1\", names=headers, header=1)\n"
     ]
    },
    {
     "data": {
      "application/vnd.microsoft.datawrangler.viewer.v0+json": {
       "columns": [
        {
         "name": "index",
         "rawType": "int64",
         "type": "integer"
        },
        {
         "name": "country_id",
         "rawType": "int64",
         "type": "integer"
        },
        {
         "name": "admin1",
         "rawType": "float64",
         "type": "float"
        },
        {
         "name": "subdiv",
         "rawType": "float64",
         "type": "float"
        },
        {
         "name": "year",
         "rawType": "int64",
         "type": "integer"
        },
        {
         "name": "list",
         "rawType": "object",
         "type": "unknown"
        },
        {
         "name": "cause",
         "rawType": "object",
         "type": "string"
        },
        {
         "name": "sex",
         "rawType": "int64",
         "type": "integer"
        },
        {
         "name": "format",
         "rawType": "int64",
         "type": "integer"
        },
        {
         "name": "infant_format",
         "rawType": "int64",
         "type": "integer"
        },
        {
         "name": "death_all_ages",
         "rawType": "int64",
         "type": "integer"
        },
        {
         "name": "death_at_0_year",
         "rawType": "float64",
         "type": "float"
        },
        {
         "name": "death_at_1_year",
         "rawType": "float64",
         "type": "float"
        },
        {
         "name": "death_at_2_year",
         "rawType": "float64",
         "type": "float"
        },
        {
         "name": "death_at_3_year",
         "rawType": "float64",
         "type": "float"
        },
        {
         "name": "death_at_4_year",
         "rawType": "float64",
         "type": "float"
        },
        {
         "name": "death_at_5-9_year",
         "rawType": "float64",
         "type": "float"
        },
        {
         "name": "death_at_10-14_year",
         "rawType": "float64",
         "type": "float"
        },
        {
         "name": "death_at_15-19_year",
         "rawType": "float64",
         "type": "float"
        },
        {
         "name": "death_at_20-24_year",
         "rawType": "float64",
         "type": "float"
        },
        {
         "name": "death_at_25-29_year",
         "rawType": "float64",
         "type": "float"
        },
        {
         "name": "death_at_30-34_year",
         "rawType": "float64",
         "type": "float"
        },
        {
         "name": "death_at_35-39_year",
         "rawType": "float64",
         "type": "float"
        },
        {
         "name": "death_at_40-44_year",
         "rawType": "float64",
         "type": "float"
        },
        {
         "name": "death_at_45-49_year",
         "rawType": "float64",
         "type": "float"
        },
        {
         "name": "death_at_50-54_year",
         "rawType": "float64",
         "type": "float"
        },
        {
         "name": "death_at_55-59_year",
         "rawType": "float64",
         "type": "float"
        },
        {
         "name": "death_at_60-64_year",
         "rawType": "float64",
         "type": "float"
        },
        {
         "name": "death_at_65-69_year",
         "rawType": "float64",
         "type": "float"
        },
        {
         "name": "death_at_70-74_year",
         "rawType": "float64",
         "type": "float"
        },
        {
         "name": "death_at_75-79_year",
         "rawType": "float64",
         "type": "float"
        },
        {
         "name": "death_at_80-84_year",
         "rawType": "float64",
         "type": "float"
        },
        {
         "name": "death_at_85-89_year",
         "rawType": "float64",
         "type": "float"
        },
        {
         "name": "death_at_90-94_year",
         "rawType": "float64",
         "type": "float"
        },
        {
         "name": "deat_at_95_plus",
         "rawType": "float64",
         "type": "float"
        },
        {
         "name": "death_undefined_age",
         "rawType": "float64",
         "type": "float"
        },
        {
         "name": "infant_death_0_day",
         "rawType": "float64",
         "type": "float"
        },
        {
         "name": "infant_death_1-6_day",
         "rawType": "float64",
         "type": "float"
        },
        {
         "name": "infant_death_7-27_day",
         "rawType": "float64",
         "type": "float"
        },
        {
         "name": "infant_death_28-364_day",
         "rawType": "float64",
         "type": "float"
        }
       ],
       "conversionMethod": "pd.DataFrame",
       "ref": "5876bc41-02a6-4604-9400-354f023f6527",
       "rows": [
        [
         "0",
         "1400",
         null,
         null,
         "2001",
         "101",
         "1000",
         "2",
         "7",
         "8",
         "222",
         "11.0",
         "1.0",
         null,
         null,
         null,
         "1.0",
         null,
         "1.0",
         null,
         "2.0",
         null,
         "12.0",
         null,
         "13.0",
         null,
         "21.0",
         null,
         "48.0",
         null,
         "112.0",
         null,
         null,
         null,
         null,
         "0.0",
         "11.0",
         null,
         null,
         null
        ],
        [
         "1",
         "1400",
         null,
         null,
         "2001",
         "101",
         "1001",
         "1",
         "7",
         "8",
         "24",
         "0.0",
         "0.0",
         null,
         null,
         null,
         "0.0",
         null,
         "1.0",
         null,
         "3.0",
         null,
         "7.0",
         null,
         "2.0",
         null,
         "3.0",
         null,
         "3.0",
         null,
         "5.0",
         null,
         null,
         null,
         null,
         "0.0",
         "0.0",
         null,
         null,
         null
        ],
        [
         "2",
         "1400",
         null,
         null,
         "2001",
         "101",
         "1001",
         "2",
         "7",
         "8",
         "14",
         "0.0",
         "0.0",
         null,
         null,
         null,
         "0.0",
         null,
         "0.0",
         null,
         "0.0",
         null,
         "3.0",
         null,
         "1.0",
         null,
         "4.0",
         null,
         "0.0",
         null,
         "6.0",
         null,
         null,
         null,
         null,
         "0.0",
         "0.0",
         null,
         null,
         null
        ],
        [
         "3",
         "1400",
         null,
         null,
         "2001",
         "101",
         "1002",
         "1",
         "7",
         "8",
         "0",
         "0.0",
         "0.0",
         null,
         null,
         null,
         "0.0",
         null,
         "0.0",
         null,
         "0.0",
         null,
         "0.0",
         null,
         "0.0",
         null,
         "0.0",
         null,
         "0.0",
         null,
         "0.0",
         null,
         null,
         null,
         null,
         "0.0",
         "0.0",
         null,
         null,
         null
        ],
        [
         "4",
         "1400",
         null,
         null,
         "2001",
         "101",
         "1002",
         "2",
         "7",
         "8",
         "0",
         "0.0",
         "0.0",
         null,
         null,
         null,
         "0.0",
         null,
         "0.0",
         null,
         "0.0",
         null,
         "0.0",
         null,
         "0.0",
         null,
         "0.0",
         null,
         "0.0",
         null,
         "0.0",
         null,
         null,
         null,
         null,
         "0.0",
         "0.0",
         null,
         null,
         null
        ]
       ],
       "shape": {
        "columns": 39,
        "rows": 5
       }
      },
      "text/html": [
       "<div>\n",
       "<style scoped>\n",
       "    .dataframe tbody tr th:only-of-type {\n",
       "        vertical-align: middle;\n",
       "    }\n",
       "\n",
       "    .dataframe tbody tr th {\n",
       "        vertical-align: top;\n",
       "    }\n",
       "\n",
       "    .dataframe thead th {\n",
       "        text-align: right;\n",
       "    }\n",
       "</style>\n",
       "<table border=\"1\" class=\"dataframe\">\n",
       "  <thead>\n",
       "    <tr style=\"text-align: right;\">\n",
       "      <th></th>\n",
       "      <th>country_id</th>\n",
       "      <th>admin1</th>\n",
       "      <th>subdiv</th>\n",
       "      <th>year</th>\n",
       "      <th>list</th>\n",
       "      <th>cause</th>\n",
       "      <th>sex</th>\n",
       "      <th>format</th>\n",
       "      <th>infant_format</th>\n",
       "      <th>death_all_ages</th>\n",
       "      <th>...</th>\n",
       "      <th>death_at_75-79_year</th>\n",
       "      <th>death_at_80-84_year</th>\n",
       "      <th>death_at_85-89_year</th>\n",
       "      <th>death_at_90-94_year</th>\n",
       "      <th>deat_at_95_plus</th>\n",
       "      <th>death_undefined_age</th>\n",
       "      <th>infant_death_0_day</th>\n",
       "      <th>infant_death_1-6_day</th>\n",
       "      <th>infant_death_7-27_day</th>\n",
       "      <th>infant_death_28-364_day</th>\n",
       "    </tr>\n",
       "  </thead>\n",
       "  <tbody>\n",
       "    <tr>\n",
       "      <th>0</th>\n",
       "      <td>1400</td>\n",
       "      <td>NaN</td>\n",
       "      <td>NaN</td>\n",
       "      <td>2001</td>\n",
       "      <td>101</td>\n",
       "      <td>1000</td>\n",
       "      <td>2</td>\n",
       "      <td>7</td>\n",
       "      <td>8</td>\n",
       "      <td>222</td>\n",
       "      <td>...</td>\n",
       "      <td>112.0</td>\n",
       "      <td>NaN</td>\n",
       "      <td>NaN</td>\n",
       "      <td>NaN</td>\n",
       "      <td>NaN</td>\n",
       "      <td>0.0</td>\n",
       "      <td>11.0</td>\n",
       "      <td>NaN</td>\n",
       "      <td>NaN</td>\n",
       "      <td>NaN</td>\n",
       "    </tr>\n",
       "    <tr>\n",
       "      <th>1</th>\n",
       "      <td>1400</td>\n",
       "      <td>NaN</td>\n",
       "      <td>NaN</td>\n",
       "      <td>2001</td>\n",
       "      <td>101</td>\n",
       "      <td>1001</td>\n",
       "      <td>1</td>\n",
       "      <td>7</td>\n",
       "      <td>8</td>\n",
       "      <td>24</td>\n",
       "      <td>...</td>\n",
       "      <td>5.0</td>\n",
       "      <td>NaN</td>\n",
       "      <td>NaN</td>\n",
       "      <td>NaN</td>\n",
       "      <td>NaN</td>\n",
       "      <td>0.0</td>\n",
       "      <td>0.0</td>\n",
       "      <td>NaN</td>\n",
       "      <td>NaN</td>\n",
       "      <td>NaN</td>\n",
       "    </tr>\n",
       "    <tr>\n",
       "      <th>2</th>\n",
       "      <td>1400</td>\n",
       "      <td>NaN</td>\n",
       "      <td>NaN</td>\n",
       "      <td>2001</td>\n",
       "      <td>101</td>\n",
       "      <td>1001</td>\n",
       "      <td>2</td>\n",
       "      <td>7</td>\n",
       "      <td>8</td>\n",
       "      <td>14</td>\n",
       "      <td>...</td>\n",
       "      <td>6.0</td>\n",
       "      <td>NaN</td>\n",
       "      <td>NaN</td>\n",
       "      <td>NaN</td>\n",
       "      <td>NaN</td>\n",
       "      <td>0.0</td>\n",
       "      <td>0.0</td>\n",
       "      <td>NaN</td>\n",
       "      <td>NaN</td>\n",
       "      <td>NaN</td>\n",
       "    </tr>\n",
       "    <tr>\n",
       "      <th>3</th>\n",
       "      <td>1400</td>\n",
       "      <td>NaN</td>\n",
       "      <td>NaN</td>\n",
       "      <td>2001</td>\n",
       "      <td>101</td>\n",
       "      <td>1002</td>\n",
       "      <td>1</td>\n",
       "      <td>7</td>\n",
       "      <td>8</td>\n",
       "      <td>0</td>\n",
       "      <td>...</td>\n",
       "      <td>0.0</td>\n",
       "      <td>NaN</td>\n",
       "      <td>NaN</td>\n",
       "      <td>NaN</td>\n",
       "      <td>NaN</td>\n",
       "      <td>0.0</td>\n",
       "      <td>0.0</td>\n",
       "      <td>NaN</td>\n",
       "      <td>NaN</td>\n",
       "      <td>NaN</td>\n",
       "    </tr>\n",
       "    <tr>\n",
       "      <th>4</th>\n",
       "      <td>1400</td>\n",
       "      <td>NaN</td>\n",
       "      <td>NaN</td>\n",
       "      <td>2001</td>\n",
       "      <td>101</td>\n",
       "      <td>1002</td>\n",
       "      <td>2</td>\n",
       "      <td>7</td>\n",
       "      <td>8</td>\n",
       "      <td>0</td>\n",
       "      <td>...</td>\n",
       "      <td>0.0</td>\n",
       "      <td>NaN</td>\n",
       "      <td>NaN</td>\n",
       "      <td>NaN</td>\n",
       "      <td>NaN</td>\n",
       "      <td>0.0</td>\n",
       "      <td>0.0</td>\n",
       "      <td>NaN</td>\n",
       "      <td>NaN</td>\n",
       "      <td>NaN</td>\n",
       "    </tr>\n",
       "  </tbody>\n",
       "</table>\n",
       "<p>5 rows × 39 columns</p>\n",
       "</div>"
      ],
      "text/plain": [
       "   country_id  admin1  subdiv  year list cause  sex  format  infant_format  \\\n",
       "0        1400     NaN     NaN  2001  101  1000    2       7              8   \n",
       "1        1400     NaN     NaN  2001  101  1001    1       7              8   \n",
       "2        1400     NaN     NaN  2001  101  1001    2       7              8   \n",
       "3        1400     NaN     NaN  2001  101  1002    1       7              8   \n",
       "4        1400     NaN     NaN  2001  101  1002    2       7              8   \n",
       "\n",
       "   death_all_ages  ...  death_at_75-79_year  death_at_80-84_year  \\\n",
       "0             222  ...                112.0                  NaN   \n",
       "1              24  ...                  5.0                  NaN   \n",
       "2              14  ...                  6.0                  NaN   \n",
       "3               0  ...                  0.0                  NaN   \n",
       "4               0  ...                  0.0                  NaN   \n",
       "\n",
       "   death_at_85-89_year  death_at_90-94_year  deat_at_95_plus  \\\n",
       "0                  NaN                  NaN              NaN   \n",
       "1                  NaN                  NaN              NaN   \n",
       "2                  NaN                  NaN              NaN   \n",
       "3                  NaN                  NaN              NaN   \n",
       "4                  NaN                  NaN              NaN   \n",
       "\n",
       "   death_undefined_age  infant_death_0_day  infant_death_1-6_day  \\\n",
       "0                  0.0                11.0                   NaN   \n",
       "1                  0.0                 0.0                   NaN   \n",
       "2                  0.0                 0.0                   NaN   \n",
       "3                  0.0                 0.0                   NaN   \n",
       "4                  0.0                 0.0                   NaN   \n",
       "\n",
       "   infant_death_7-27_day  infant_death_28-364_day  \n",
       "0                    NaN                      NaN  \n",
       "1                    NaN                      NaN  \n",
       "2                    NaN                      NaN  \n",
       "3                    NaN                      NaN  \n",
       "4                    NaN                      NaN  \n",
       "\n",
       "[5 rows x 39 columns]"
      ]
     },
     "execution_count": 45,
     "metadata": {},
     "output_type": "execute_result"
    }
   ],
   "source": [
    "headers = [\"country_id\", \"admin1\", \"subdiv\", \"year\", \"list\", \"cause\", \"sex\", \"format\", \"infant_format\", \n",
    "           \"death_all_ages\", \"death_at_0_year\", \"death_at_1_year\", \"death_at_2_year\", \"death_at_3_year\", \"death_at_4_year\"\n",
    "           , \"death_at_5-9_year\", \"death_at_10-14_year\", \"death_at_15-19_year\", \"death_at_20-24_year\", \"death_at_25-29_year\",\n",
    " \"death_at_30-34_year\", \"death_at_35-39_year\", \"death_at_40-44_year\", \"death_at_45-49_year\",\n",
    " \"death_at_50-54_year\", \"death_at_55-59_year\", \"death_at_60-64_year\", \"death_at_65-69_year\",\n",
    " \"death_at_70-74_year\", \"death_at_75-79_year\", \"death_at_80-84_year\", \"death_at_85-89_year\",\n",
    " \"death_at_90-94_year\", \"deat_at_95_plus\", \"death_undefined_age\", \"infant_death_0_day\",\n",
    " \"infant_death_1-6_day\", \"infant_death_7-27_day\", \"infant_death_28-364_day\"]\n",
    "df = pd.read_csv(\"data/morticd10_part1\", names=headers, header=1)\n",
    "df.head()"
   ]
  },
  {
   "cell_type": "code",
   "execution_count": 50,
   "id": "f2adbfbb",
   "metadata": {},
   "outputs": [
    {
     "ename": "ValueError",
     "evalue": "You are trying to merge on object and int64 columns for key 'cause'. If you wish to proceed you should use pd.concat",
     "output_type": "error",
     "traceback": [
      "\u001b[31m---------------------------------------------------------------------------\u001b[39m",
      "\u001b[31mValueError\u001b[39m                                Traceback (most recent call last)",
      "\u001b[36mCell\u001b[39m\u001b[36m \u001b[39m\u001b[32mIn[50]\u001b[39m\u001b[32m, line 3\u001b[39m\n\u001b[32m      1\u001b[39m df_causes = pd.read_csv(\u001b[33m\"\u001b[39m\u001b[33mdata/causes_of_death.csv\u001b[39m\u001b[33m\"\u001b[39m, names=[\u001b[33m\"\u001b[39m\u001b[33mcause\u001b[39m\u001b[33m\"\u001b[39m, \u001b[33m\"\u001b[39m\u001b[33midc\u001b[39m\u001b[33m\"\u001b[39m, \u001b[33m\"\u001b[39m\u001b[33mcause_name\u001b[39m\u001b[33m\"\u001b[39m], header=\u001b[32m1\u001b[39m)\n\u001b[32m      2\u001b[39m df_causes.head()\n\u001b[32m----> \u001b[39m\u001b[32m3\u001b[39m df_joined = \u001b[43mdf\u001b[49m\u001b[43m.\u001b[49m\u001b[43mjoin\u001b[49m\u001b[43m(\u001b[49m\u001b[43mdf_causes\u001b[49m\u001b[43m,\u001b[49m\u001b[43m \u001b[49m\u001b[43mon\u001b[49m\u001b[43m=\u001b[49m\u001b[33;43m\"\u001b[39;49m\u001b[33;43mcause\u001b[39;49m\u001b[33;43m\"\u001b[39;49m\u001b[43m)\u001b[49m\n\u001b[32m      4\u001b[39m df_joined.head()\n",
      "\u001b[36mFile \u001b[39m\u001b[32m~/github/data_visualization/.venv/lib/python3.11/site-packages/pandas/core/frame.py:10757\u001b[39m, in \u001b[36mDataFrame.join\u001b[39m\u001b[34m(self, other, on, how, lsuffix, rsuffix, sort, validate)\u001b[39m\n\u001b[32m  10747\u001b[39m     \u001b[38;5;28;01mif\u001b[39;00m how == \u001b[33m\"\u001b[39m\u001b[33mcross\u001b[39m\u001b[33m\"\u001b[39m:\n\u001b[32m  10748\u001b[39m         \u001b[38;5;28;01mreturn\u001b[39;00m merge(\n\u001b[32m  10749\u001b[39m             \u001b[38;5;28mself\u001b[39m,\n\u001b[32m  10750\u001b[39m             other,\n\u001b[32m   (...)\u001b[39m\u001b[32m  10755\u001b[39m             validate=validate,\n\u001b[32m  10756\u001b[39m         )\n\u001b[32m> \u001b[39m\u001b[32m10757\u001b[39m     \u001b[38;5;28;01mreturn\u001b[39;00m \u001b[43mmerge\u001b[49m\u001b[43m(\u001b[49m\n\u001b[32m  10758\u001b[39m \u001b[43m        \u001b[49m\u001b[38;5;28;43mself\u001b[39;49m\u001b[43m,\u001b[49m\n\u001b[32m  10759\u001b[39m \u001b[43m        \u001b[49m\u001b[43mother\u001b[49m\u001b[43m,\u001b[49m\n\u001b[32m  10760\u001b[39m \u001b[43m        \u001b[49m\u001b[43mleft_on\u001b[49m\u001b[43m=\u001b[49m\u001b[43mon\u001b[49m\u001b[43m,\u001b[49m\n\u001b[32m  10761\u001b[39m \u001b[43m        \u001b[49m\u001b[43mhow\u001b[49m\u001b[43m=\u001b[49m\u001b[43mhow\u001b[49m\u001b[43m,\u001b[49m\n\u001b[32m  10762\u001b[39m \u001b[43m        \u001b[49m\u001b[43mleft_index\u001b[49m\u001b[43m=\u001b[49m\u001b[43mon\u001b[49m\u001b[43m \u001b[49m\u001b[38;5;129;43;01mis\u001b[39;49;00m\u001b[43m \u001b[49m\u001b[38;5;28;43;01mNone\u001b[39;49;00m\u001b[43m,\u001b[49m\n\u001b[32m  10763\u001b[39m \u001b[43m        \u001b[49m\u001b[43mright_index\u001b[49m\u001b[43m=\u001b[49m\u001b[38;5;28;43;01mTrue\u001b[39;49;00m\u001b[43m,\u001b[49m\n\u001b[32m  10764\u001b[39m \u001b[43m        \u001b[49m\u001b[43msuffixes\u001b[49m\u001b[43m=\u001b[49m\u001b[43m(\u001b[49m\u001b[43mlsuffix\u001b[49m\u001b[43m,\u001b[49m\u001b[43m \u001b[49m\u001b[43mrsuffix\u001b[49m\u001b[43m)\u001b[49m\u001b[43m,\u001b[49m\n\u001b[32m  10765\u001b[39m \u001b[43m        \u001b[49m\u001b[43msort\u001b[49m\u001b[43m=\u001b[49m\u001b[43msort\u001b[49m\u001b[43m,\u001b[49m\n\u001b[32m  10766\u001b[39m \u001b[43m        \u001b[49m\u001b[43mvalidate\u001b[49m\u001b[43m=\u001b[49m\u001b[43mvalidate\u001b[49m\u001b[43m,\u001b[49m\n\u001b[32m  10767\u001b[39m \u001b[43m    \u001b[49m\u001b[43m)\u001b[49m\n\u001b[32m  10768\u001b[39m \u001b[38;5;28;01melse\u001b[39;00m:\n\u001b[32m  10769\u001b[39m     \u001b[38;5;28;01mif\u001b[39;00m on \u001b[38;5;129;01mis\u001b[39;00m \u001b[38;5;129;01mnot\u001b[39;00m \u001b[38;5;28;01mNone\u001b[39;00m:\n",
      "\u001b[36mFile \u001b[39m\u001b[32m~/github/data_visualization/.venv/lib/python3.11/site-packages/pandas/core/reshape/merge.py:170\u001b[39m, in \u001b[36mmerge\u001b[39m\u001b[34m(left, right, how, on, left_on, right_on, left_index, right_index, sort, suffixes, copy, indicator, validate)\u001b[39m\n\u001b[32m    155\u001b[39m     \u001b[38;5;28;01mreturn\u001b[39;00m _cross_merge(\n\u001b[32m    156\u001b[39m         left_df,\n\u001b[32m    157\u001b[39m         right_df,\n\u001b[32m   (...)\u001b[39m\u001b[32m    167\u001b[39m         copy=copy,\n\u001b[32m    168\u001b[39m     )\n\u001b[32m    169\u001b[39m \u001b[38;5;28;01melse\u001b[39;00m:\n\u001b[32m--> \u001b[39m\u001b[32m170\u001b[39m     op = \u001b[43m_MergeOperation\u001b[49m\u001b[43m(\u001b[49m\n\u001b[32m    171\u001b[39m \u001b[43m        \u001b[49m\u001b[43mleft_df\u001b[49m\u001b[43m,\u001b[49m\n\u001b[32m    172\u001b[39m \u001b[43m        \u001b[49m\u001b[43mright_df\u001b[49m\u001b[43m,\u001b[49m\n\u001b[32m    173\u001b[39m \u001b[43m        \u001b[49m\u001b[43mhow\u001b[49m\u001b[43m=\u001b[49m\u001b[43mhow\u001b[49m\u001b[43m,\u001b[49m\n\u001b[32m    174\u001b[39m \u001b[43m        \u001b[49m\u001b[43mon\u001b[49m\u001b[43m=\u001b[49m\u001b[43mon\u001b[49m\u001b[43m,\u001b[49m\n\u001b[32m    175\u001b[39m \u001b[43m        \u001b[49m\u001b[43mleft_on\u001b[49m\u001b[43m=\u001b[49m\u001b[43mleft_on\u001b[49m\u001b[43m,\u001b[49m\n\u001b[32m    176\u001b[39m \u001b[43m        \u001b[49m\u001b[43mright_on\u001b[49m\u001b[43m=\u001b[49m\u001b[43mright_on\u001b[49m\u001b[43m,\u001b[49m\n\u001b[32m    177\u001b[39m \u001b[43m        \u001b[49m\u001b[43mleft_index\u001b[49m\u001b[43m=\u001b[49m\u001b[43mleft_index\u001b[49m\u001b[43m,\u001b[49m\n\u001b[32m    178\u001b[39m \u001b[43m        \u001b[49m\u001b[43mright_index\u001b[49m\u001b[43m=\u001b[49m\u001b[43mright_index\u001b[49m\u001b[43m,\u001b[49m\n\u001b[32m    179\u001b[39m \u001b[43m        \u001b[49m\u001b[43msort\u001b[49m\u001b[43m=\u001b[49m\u001b[43msort\u001b[49m\u001b[43m,\u001b[49m\n\u001b[32m    180\u001b[39m \u001b[43m        \u001b[49m\u001b[43msuffixes\u001b[49m\u001b[43m=\u001b[49m\u001b[43msuffixes\u001b[49m\u001b[43m,\u001b[49m\n\u001b[32m    181\u001b[39m \u001b[43m        \u001b[49m\u001b[43mindicator\u001b[49m\u001b[43m=\u001b[49m\u001b[43mindicator\u001b[49m\u001b[43m,\u001b[49m\n\u001b[32m    182\u001b[39m \u001b[43m        \u001b[49m\u001b[43mvalidate\u001b[49m\u001b[43m=\u001b[49m\u001b[43mvalidate\u001b[49m\u001b[43m,\u001b[49m\n\u001b[32m    183\u001b[39m \u001b[43m    \u001b[49m\u001b[43m)\u001b[49m\n\u001b[32m    184\u001b[39m     \u001b[38;5;28;01mreturn\u001b[39;00m op.get_result(copy=copy)\n",
      "\u001b[36mFile \u001b[39m\u001b[32m~/github/data_visualization/.venv/lib/python3.11/site-packages/pandas/core/reshape/merge.py:807\u001b[39m, in \u001b[36m_MergeOperation.__init__\u001b[39m\u001b[34m(self, left, right, how, on, left_on, right_on, left_index, right_index, sort, suffixes, indicator, validate)\u001b[39m\n\u001b[32m    803\u001b[39m \u001b[38;5;28mself\u001b[39m._validate_tolerance(\u001b[38;5;28mself\u001b[39m.left_join_keys)\n\u001b[32m    805\u001b[39m \u001b[38;5;66;03m# validate the merge keys dtypes. We may need to coerce\u001b[39;00m\n\u001b[32m    806\u001b[39m \u001b[38;5;66;03m# to avoid incompatible dtypes\u001b[39;00m\n\u001b[32m--> \u001b[39m\u001b[32m807\u001b[39m \u001b[38;5;28;43mself\u001b[39;49m\u001b[43m.\u001b[49m\u001b[43m_maybe_coerce_merge_keys\u001b[49m\u001b[43m(\u001b[49m\u001b[43m)\u001b[49m\n\u001b[32m    809\u001b[39m \u001b[38;5;66;03m# If argument passed to validate,\u001b[39;00m\n\u001b[32m    810\u001b[39m \u001b[38;5;66;03m# check if columns specified as unique\u001b[39;00m\n\u001b[32m    811\u001b[39m \u001b[38;5;66;03m# are in fact unique.\u001b[39;00m\n\u001b[32m    812\u001b[39m \u001b[38;5;28;01mif\u001b[39;00m validate \u001b[38;5;129;01mis\u001b[39;00m \u001b[38;5;129;01mnot\u001b[39;00m \u001b[38;5;28;01mNone\u001b[39;00m:\n",
      "\u001b[36mFile \u001b[39m\u001b[32m~/github/data_visualization/.venv/lib/python3.11/site-packages/pandas/core/reshape/merge.py:1508\u001b[39m, in \u001b[36m_MergeOperation._maybe_coerce_merge_keys\u001b[39m\u001b[34m(self)\u001b[39m\n\u001b[32m   1502\u001b[39m     \u001b[38;5;66;03m# unless we are merging non-string-like with string-like\u001b[39;00m\n\u001b[32m   1503\u001b[39m     \u001b[38;5;28;01melif\u001b[39;00m (\n\u001b[32m   1504\u001b[39m         inferred_left \u001b[38;5;129;01min\u001b[39;00m string_types \u001b[38;5;129;01mand\u001b[39;00m inferred_right \u001b[38;5;129;01mnot\u001b[39;00m \u001b[38;5;129;01min\u001b[39;00m string_types\n\u001b[32m   1505\u001b[39m     ) \u001b[38;5;129;01mor\u001b[39;00m (\n\u001b[32m   1506\u001b[39m         inferred_right \u001b[38;5;129;01min\u001b[39;00m string_types \u001b[38;5;129;01mand\u001b[39;00m inferred_left \u001b[38;5;129;01mnot\u001b[39;00m \u001b[38;5;129;01min\u001b[39;00m string_types\n\u001b[32m   1507\u001b[39m     ):\n\u001b[32m-> \u001b[39m\u001b[32m1508\u001b[39m         \u001b[38;5;28;01mraise\u001b[39;00m \u001b[38;5;167;01mValueError\u001b[39;00m(msg)\n\u001b[32m   1510\u001b[39m \u001b[38;5;66;03m# datetimelikes must match exactly\u001b[39;00m\n\u001b[32m   1511\u001b[39m \u001b[38;5;28;01melif\u001b[39;00m needs_i8_conversion(lk.dtype) \u001b[38;5;129;01mand\u001b[39;00m \u001b[38;5;129;01mnot\u001b[39;00m needs_i8_conversion(rk.dtype):\n",
      "\u001b[31mValueError\u001b[39m: You are trying to merge on object and int64 columns for key 'cause'. If you wish to proceed you should use pd.concat"
     ]
    }
   ],
   "source": [
    "df_causes = pd.read_csv(\"data/causes_of_death.csv\", names=[\"cause\", \"idc\", \"cause_name\"], header=1)\n",
    "df_causes.head()\n",
    "df_joined = df.join(df_causes, on=\"cause\")\n",
    "df_joined.head()"
   ]
  }
 ],
 "metadata": {
  "kernelspec": {
   "display_name": ".venv",
   "language": "python",
   "name": "python3"
  },
  "language_info": {
   "codemirror_mode": {
    "name": "ipython",
    "version": 3
   },
   "file_extension": ".py",
   "mimetype": "text/x-python",
   "name": "python",
   "nbconvert_exporter": "python",
   "pygments_lexer": "ipython3",
   "version": "3.11.12"
  }
 },
 "nbformat": 4,
 "nbformat_minor": 5
}
